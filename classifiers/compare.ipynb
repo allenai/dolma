{
 "cells": [
  {
   "cell_type": "code",
   "execution_count": 2,
   "id": "initial_id",
   "metadata": {
    "ExecuteTime": {
     "end_time": "2024-11-04T18:07:58.299678Z",
     "start_time": "2024-11-04T18:07:57.550566Z"
    }
   },
   "outputs": [],
   "source": [
    "import wandb\n",
    "import pandas as pd"
   ]
  },
  {
   "cell_type": "code",
   "execution_count": 40,
   "id": "b94c4d919aa6e4b",
   "metadata": {
    "collapsed": false,
    "ExecuteTime": {
     "end_time": "2024-11-04T18:38:22.602956Z",
     "start_time": "2024-11-04T18:38:22.602656Z"
    }
   },
   "outputs": [],
   "source": [
    "run_urls = [\n",
    "    \"https://wandb.ai/ai2-llm/olmo-ladder-benb/runs/tedq3zes\",\n",
    "    \"https://wandb.ai/ai2-llm/olmo-ladder-benb/runs/nyry8k36\",\n",
    "    \"https://wandb.ai/ai2-llm/olmo-ladder-benb/runs/4gzo1e35\",\n",
    "    \"https://wandb.ai/ai2-llm/olmo-ladder-benb/runs/eewei3q1\",\n",
    "    \"https://wandb.ai/ai2-llm/olmo-ladder-benb/runs/9a4sn074\",\n",
    "    \"https://wandb.ai/ai2-llm/olmo-ladder-benb/runs/ms3sd05k\",\n",
    "    \"https://wandb.ai/ai2-llm/olmo-ladder-benb/runs/89cgvukx\",\n",
    "    \"https://wandb.ai/ai2-llm/olmo-ladder-benb/runs/5sxy1ux0\",\n",
    "    \"https://wandb.ai/ai2-llm/olmo-ladder-benb/runs/mlulk77o\"\n",
    "]"
   ]
  },
  {
   "cell_type": "code",
   "execution_count": 43,
   "id": "5fa422dfa4665139",
   "metadata": {
    "collapsed": false,
    "ExecuteTime": {
     "end_time": "2024-11-04T18:39:35.119334Z",
     "start_time": "2024-11-04T18:39:33.633594Z"
    }
   },
   "outputs": [],
   "source": [
    "api = wandb.Api(timeout=30)\n",
    "wandb_entity = \"ai2-llm\"\n",
    "wandb_project = \"olmo-ladder-benb\"\n",
    "\n",
    "metrics = [\n",
    "    \"arc_challenge_len_norm\",\n",
    "    \"arc_easy_acc\",\n",
    "    \"basic_arithmetic_acc\",\n",
    "    # \"boolq_acc\",\n",
    "    \"commonsense_qa_len_norm\",\n",
    "    # \"copa_acc\",\n",
    "    \"hellaswag_len_norm\",\n",
    "    \"mmlu_humanities_var_len_norm\",\n",
    "    \"mmlu_other_var_len_norm\",\n",
    "    \"mmlu_social_sciences_var_len_norm\",\n",
    "    \"mmlu_stem_var_len_norm\",\n",
    "    \"openbook_qa_len_norm\",\n",
    "    \"piqa_len_norm\",\n",
    "    \"sciq_acc\",\n",
    "    \"social_iqa_len_norm\",\n",
    "    \"winogrande_acc\"\n",
    "]\n",
    "    \n",
    "\n",
    "# Placeholder for metrics data\n",
    "data = []\n",
    "\n",
    "# Loop through each run ID and retrieve the metrics\n",
    "for run_url in run_urls:\n",
    "    run_id = run_url.split(\"/\")[-1]\n",
    "    run = api.run(f\"{wandb_entity}/{wandb_project}/{run_id}\")\n",
    "    row = {\"run_name\": run.name}\n",
    "    row.update({metric: run.summary[f\"eval/downstream/{metric}\"] for metric in metrics})\n",
    "    data.append(row)\n"
   ]
  },
  {
   "cell_type": "code",
   "execution_count": 44,
   "outputs": [
    {
     "data": {
      "text/plain": "                                            run_name   average  \\\n1  pos_eli5_oh_neg_dclm_refinedweb_steps_2000_lr3...  0.519302   \n3  pos_eli5_oh_neg_dclm_refinedweb_steps_2000_lr3...  0.514043   \n0  regression_synthetic_20epochs_bs640_lf1_lre35_...  0.512562   \n2  regression_synthetic_20epochs_bs640_lf1_lre35_...  0.512163   \n4           falcon_and_cc_og_eli5_oh_top10p-1B-5xC-2  0.508023   \n8                           fineweb_edu_dedup-1B-5xC  0.505339   \n6                         fineweb_edu_dedup-1B-5xC-2  0.498841   \n7                          prox_fineweb_pro-1B-5xC-2  0.488075   \n5                                  baseline-1B-5xC-2  0.474626   \n\n   arc_challenge_len_norm  arc_easy_acc  basic_arithmetic_acc  \\\n1                0.411371      0.728070              0.405667   \n3                0.444816      0.719298              0.434333   \n0                0.408027      0.743860              0.307333   \n2                0.428094      0.745614              0.352667   \n4                0.428094      0.708772              0.363000   \n8                0.408027      0.750877              0.305667   \n6                0.367893      0.764912              0.297000   \n7                0.364549      0.694737              0.274667   \n5                0.290970      0.607018              0.325000   \n\n   commonsense_qa_len_norm  hellaswag_len_norm  mmlu_humanities_var_len_norm  \\\n1                 0.475020            0.613822                      0.327082   \n3                 0.461916            0.594503                      0.327910   \n0                 0.443898            0.642601                      0.322945   \n2                 0.403767            0.639713                      0.315775   \n4                 0.445536            0.629058                      0.317154   \n8                 0.438165            0.587134                      0.339217   \n6                 0.425061            0.583051                      0.327910   \n7                 0.413595            0.623880                      0.316878   \n5                 0.488124            0.599881                      0.281302   \n\n   mmlu_other_var_len_norm  mmlu_social_sciences_var_len_norm  \\\n1                 0.431791                           0.406952   \n3                 0.421730                           0.405680   \n0                 0.446680                           0.385333   \n2                 0.451911                           0.383637   \n4                 0.446680                           0.360746   \n8                 0.457545                           0.401441   \n6                 0.441046                           0.394235   \n7                 0.432998                           0.365409   \n5                 0.403219                           0.305638   \n\n   mmlu_stem_var_len_norm  openbook_qa_len_norm  piqa_len_norm  sciq_acc  \\\n1                0.316422                 0.400       0.763330     0.926   \n3                0.312417                 0.386       0.730141     0.920   \n0                0.301291                 0.422       0.764418     0.927   \n2                0.332443                 0.400       0.767138     0.925   \n4                0.296395                 0.392       0.754081     0.910   \n8                0.286159                 0.406       0.736126     0.921   \n6                0.279484                 0.412       0.737758     0.918   \n7                0.269248                 0.402       0.745375     0.902   \n5                0.267468                 0.346       0.754081     0.910   \n\n   social_iqa_len_norm  winogrande_acc  \n1             0.458547        0.606156  \n3             0.449846        0.588003  \n0             0.459058        0.601421  \n2             0.446776        0.577743  \n4             0.457011        0.603788  \n8             0.447799        0.589582  \n6             0.442682        0.592739  \n7             0.445241        0.582478  \n5             0.485159        0.580900  ",
      "text/html": "<div>\n<style scoped>\n    .dataframe tbody tr th:only-of-type {\n        vertical-align: middle;\n    }\n\n    .dataframe tbody tr th {\n        vertical-align: top;\n    }\n\n    .dataframe thead th {\n        text-align: right;\n    }\n</style>\n<table border=\"1\" class=\"dataframe\">\n  <thead>\n    <tr style=\"text-align: right;\">\n      <th></th>\n      <th>run_name</th>\n      <th>average</th>\n      <th>arc_challenge_len_norm</th>\n      <th>arc_easy_acc</th>\n      <th>basic_arithmetic_acc</th>\n      <th>commonsense_qa_len_norm</th>\n      <th>hellaswag_len_norm</th>\n      <th>mmlu_humanities_var_len_norm</th>\n      <th>mmlu_other_var_len_norm</th>\n      <th>mmlu_social_sciences_var_len_norm</th>\n      <th>mmlu_stem_var_len_norm</th>\n      <th>openbook_qa_len_norm</th>\n      <th>piqa_len_norm</th>\n      <th>sciq_acc</th>\n      <th>social_iqa_len_norm</th>\n      <th>winogrande_acc</th>\n    </tr>\n  </thead>\n  <tbody>\n    <tr>\n      <th>1</th>\n      <td>pos_eli5_oh_neg_dclm_refinedweb_steps_2000_lr3...</td>\n      <td>0.519302</td>\n      <td>0.411371</td>\n      <td>0.728070</td>\n      <td>0.405667</td>\n      <td>0.475020</td>\n      <td>0.613822</td>\n      <td>0.327082</td>\n      <td>0.431791</td>\n      <td>0.406952</td>\n      <td>0.316422</td>\n      <td>0.400</td>\n      <td>0.763330</td>\n      <td>0.926</td>\n      <td>0.458547</td>\n      <td>0.606156</td>\n    </tr>\n    <tr>\n      <th>3</th>\n      <td>pos_eli5_oh_neg_dclm_refinedweb_steps_2000_lr3...</td>\n      <td>0.514043</td>\n      <td>0.444816</td>\n      <td>0.719298</td>\n      <td>0.434333</td>\n      <td>0.461916</td>\n      <td>0.594503</td>\n      <td>0.327910</td>\n      <td>0.421730</td>\n      <td>0.405680</td>\n      <td>0.312417</td>\n      <td>0.386</td>\n      <td>0.730141</td>\n      <td>0.920</td>\n      <td>0.449846</td>\n      <td>0.588003</td>\n    </tr>\n    <tr>\n      <th>0</th>\n      <td>regression_synthetic_20epochs_bs640_lf1_lre35_...</td>\n      <td>0.512562</td>\n      <td>0.408027</td>\n      <td>0.743860</td>\n      <td>0.307333</td>\n      <td>0.443898</td>\n      <td>0.642601</td>\n      <td>0.322945</td>\n      <td>0.446680</td>\n      <td>0.385333</td>\n      <td>0.301291</td>\n      <td>0.422</td>\n      <td>0.764418</td>\n      <td>0.927</td>\n      <td>0.459058</td>\n      <td>0.601421</td>\n    </tr>\n    <tr>\n      <th>2</th>\n      <td>regression_synthetic_20epochs_bs640_lf1_lre35_...</td>\n      <td>0.512163</td>\n      <td>0.428094</td>\n      <td>0.745614</td>\n      <td>0.352667</td>\n      <td>0.403767</td>\n      <td>0.639713</td>\n      <td>0.315775</td>\n      <td>0.451911</td>\n      <td>0.383637</td>\n      <td>0.332443</td>\n      <td>0.400</td>\n      <td>0.767138</td>\n      <td>0.925</td>\n      <td>0.446776</td>\n      <td>0.577743</td>\n    </tr>\n    <tr>\n      <th>4</th>\n      <td>falcon_and_cc_og_eli5_oh_top10p-1B-5xC-2</td>\n      <td>0.508023</td>\n      <td>0.428094</td>\n      <td>0.708772</td>\n      <td>0.363000</td>\n      <td>0.445536</td>\n      <td>0.629058</td>\n      <td>0.317154</td>\n      <td>0.446680</td>\n      <td>0.360746</td>\n      <td>0.296395</td>\n      <td>0.392</td>\n      <td>0.754081</td>\n      <td>0.910</td>\n      <td>0.457011</td>\n      <td>0.603788</td>\n    </tr>\n    <tr>\n      <th>8</th>\n      <td>fineweb_edu_dedup-1B-5xC</td>\n      <td>0.505339</td>\n      <td>0.408027</td>\n      <td>0.750877</td>\n      <td>0.305667</td>\n      <td>0.438165</td>\n      <td>0.587134</td>\n      <td>0.339217</td>\n      <td>0.457545</td>\n      <td>0.401441</td>\n      <td>0.286159</td>\n      <td>0.406</td>\n      <td>0.736126</td>\n      <td>0.921</td>\n      <td>0.447799</td>\n      <td>0.589582</td>\n    </tr>\n    <tr>\n      <th>6</th>\n      <td>fineweb_edu_dedup-1B-5xC-2</td>\n      <td>0.498841</td>\n      <td>0.367893</td>\n      <td>0.764912</td>\n      <td>0.297000</td>\n      <td>0.425061</td>\n      <td>0.583051</td>\n      <td>0.327910</td>\n      <td>0.441046</td>\n      <td>0.394235</td>\n      <td>0.279484</td>\n      <td>0.412</td>\n      <td>0.737758</td>\n      <td>0.918</td>\n      <td>0.442682</td>\n      <td>0.592739</td>\n    </tr>\n    <tr>\n      <th>7</th>\n      <td>prox_fineweb_pro-1B-5xC-2</td>\n      <td>0.488075</td>\n      <td>0.364549</td>\n      <td>0.694737</td>\n      <td>0.274667</td>\n      <td>0.413595</td>\n      <td>0.623880</td>\n      <td>0.316878</td>\n      <td>0.432998</td>\n      <td>0.365409</td>\n      <td>0.269248</td>\n      <td>0.402</td>\n      <td>0.745375</td>\n      <td>0.902</td>\n      <td>0.445241</td>\n      <td>0.582478</td>\n    </tr>\n    <tr>\n      <th>5</th>\n      <td>baseline-1B-5xC-2</td>\n      <td>0.474626</td>\n      <td>0.290970</td>\n      <td>0.607018</td>\n      <td>0.325000</td>\n      <td>0.488124</td>\n      <td>0.599881</td>\n      <td>0.281302</td>\n      <td>0.403219</td>\n      <td>0.305638</td>\n      <td>0.267468</td>\n      <td>0.346</td>\n      <td>0.754081</td>\n      <td>0.910</td>\n      <td>0.485159</td>\n      <td>0.580900</td>\n    </tr>\n  </tbody>\n</table>\n</div>"
     },
     "execution_count": 44,
     "metadata": {},
     "output_type": "execute_result"
    }
   ],
   "source": [
    "\n",
    "final_df = pd.DataFrame(data)\n",
    "\n",
    "# add an average column\n",
    "final_df[\"average\"] = final_df.select_dtypes(include='number').mean(axis=1)\n",
    "\n",
    "# Reorder columns to place 'average' right after 'run_name'\n",
    "cols = final_df.columns.tolist()\n",
    "cols.insert(1, cols.pop(cols.index('average')))\n",
    "final_df = final_df[cols]\n",
    "\n",
    "# sort by average\n",
    "final_df = final_df.sort_values(by=\"average\", ascending=False)\n",
    "\n",
    "final_df"
   ],
   "metadata": {
    "collapsed": false,
    "ExecuteTime": {
     "end_time": "2024-11-04T18:39:38.334541Z",
     "start_time": "2024-11-04T18:39:38.333474Z"
    }
   },
   "id": "9ba0f4c6ff9232bc"
  },
  {
   "cell_type": "code",
   "execution_count": 50,
   "id": "486e4367-a4a8-4ec9-9620-a4ead17745d5",
   "metadata": {
    "ExecuteTime": {
     "end_time": "2024-11-04T18:41:43.926815Z",
     "start_time": "2024-11-04T18:41:43.905164Z"
    }
   },
   "outputs": [
    {
     "name": "stdout",
     "output_type": "stream",
     "text": [
      "| run_name                                                       |   average |   arc_challenge_len_norm |   arc_easy_acc |   basic_arithmetic_acc |   commonsense_qa_len_norm |   hellaswag_len_norm |   mmlu_humanities_var_len_norm |   mmlu_other_var_len_norm |   mmlu_social_sciences_var_len_norm |   mmlu_stem_var_len_norm |   openbook_qa_len_norm |   piqa_len_norm |   sciq_acc |   social_iqa_len_norm |   winogrande_acc |\n",
      "|:---------------------------------------------------------------|----------:|-------------------------:|---------------:|-----------------------:|--------------------------:|---------------------:|-------------------------------:|--------------------------:|------------------------------------:|-------------------------:|-----------------------:|----------------:|-----------:|----------------------:|-----------------:|\n",
      "| pos_eli5_oh_neg_dclm_refinedweb_steps_2000_lr3e4_top20p-1B-5xC |  0.519302 |                 0.411371 |       0.72807  |               0.405667 |                  0.47502  |             0.613822 |                       0.327082 |                  0.431791 |                            0.406952 |                 0.316422 |                  0.4   |        0.76333  |      0.926 |              0.458547 |         0.606156 |\n",
      "| pos_eli5_oh_neg_dclm_refinedweb_steps_2000_lr3e4_top10p-1B-5xC |  0.514043 |                 0.444816 |       0.719298 |               0.434333 |                  0.461916 |             0.594503 |                       0.32791  |                  0.42173  |                            0.40568  |                 0.312417 |                  0.386 |        0.730141 |      0.92  |              0.449846 |         0.588003 |\n",
      "| regression_synthetic_20epochs_bs640_lf1_lre35_top20p-1B-5xC    |  0.512562 |                 0.408027 |       0.74386  |               0.307333 |                  0.443898 |             0.642601 |                       0.322945 |                  0.44668  |                            0.385333 |                 0.301291 |                  0.422 |        0.764418 |      0.927 |              0.459058 |         0.601421 |\n",
      "| regression_synthetic_20epochs_bs640_lf1_lre35_top10p-1B-5xC    |  0.512163 |                 0.428094 |       0.745614 |               0.352667 |                  0.403767 |             0.639713 |                       0.315775 |                  0.451911 |                            0.383637 |                 0.332443 |                  0.4   |        0.767138 |      0.925 |              0.446776 |         0.577743 |\n",
      "| falcon_and_cc_og_eli5_oh_top10p-1B-5xC-2                       |  0.508023 |                 0.428094 |       0.708772 |               0.363    |                  0.445536 |             0.629058 |                       0.317154 |                  0.44668  |                            0.360746 |                 0.296395 |                  0.392 |        0.754081 |      0.91  |              0.457011 |         0.603788 |\n",
      "| fineweb_edu_dedup-1B-5xC                                       |  0.505339 |                 0.408027 |       0.750877 |               0.305667 |                  0.438165 |             0.587134 |                       0.339217 |                  0.457545 |                            0.401441 |                 0.286159 |                  0.406 |        0.736126 |      0.921 |              0.447799 |         0.589582 |\n",
      "| fineweb_edu_dedup-1B-5xC-2                                     |  0.498841 |                 0.367893 |       0.764912 |               0.297    |                  0.425061 |             0.583051 |                       0.32791  |                  0.441046 |                            0.394235 |                 0.279484 |                  0.412 |        0.737758 |      0.918 |              0.442682 |         0.592739 |\n",
      "| prox_fineweb_pro-1B-5xC-2                                      |  0.488075 |                 0.364549 |       0.694737 |               0.274667 |                  0.413595 |             0.62388  |                       0.316878 |                  0.432998 |                            0.365409 |                 0.269248 |                  0.402 |        0.745375 |      0.902 |              0.445241 |         0.582478 |\n",
      "| baseline-1B-5xC-2                                              |  0.474626 |                 0.29097  |       0.607018 |               0.325    |                  0.488124 |             0.599881 |                       0.281302 |                  0.403219 |                            0.305638 |                 0.267468 |                  0.346 |        0.754081 |      0.91  |              0.485159 |         0.5809   |\n"
     ]
    }
   ],
   "source": [
    "# convert to md\n",
    "print(final_df.to_markdown(index=False))"
   ]
  }
 ],
 "metadata": {
  "kernelspec": {
   "display_name": "Python 3 (ipykernel)",
   "language": "python",
   "name": "python3"
  },
  "language_info": {
   "codemirror_mode": {
    "name": "ipython",
    "version": 3
   },
   "file_extension": ".py",
   "mimetype": "text/x-python",
   "name": "python",
   "nbconvert_exporter": "python",
   "pygments_lexer": "ipython3",
   "version": "3.10.15"
  }
 },
 "nbformat": 4,
 "nbformat_minor": 5
}
