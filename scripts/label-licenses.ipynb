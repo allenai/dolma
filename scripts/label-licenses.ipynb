{
 "cells": [
  {
   "cell_type": "code",
   "execution_count": 44,
   "metadata": {},
   "outputs": [],
   "source": [
    "import together\n",
    "import os\n",
    "import tqdm\n",
    "import smart_open\n",
    "from dolma.core.paths import glob_path\n",
    "import random\n",
    "import json\n",
    "import copy\n",
    "import openai\n",
    "from collections import Counter\n",
    "\n",
    "random.seed(42)\n",
    "# client = together.Together(api_key=os.environ.get(\"TOGETHER_API_KEY\"))\n",
    "client = openai.OpenAI(api_key=os.environ.get(\"OPENAI_API_KEY\"))\n",
    "base_path = \"s3://ai2-llm/pretraining-data/sources/cccc/v2/documents/*/*.gz\"\n",
    "all_paths = list(glob_path(base_path))\n",
    "random.shuffle(all_paths)\n",
    "\n",
    "# response = client.chat.completions.create(\n",
    "#     model=\"mistralai/Mixtral-8x7B-Instruct-v0.1\",\n",
    "#     messages=[{\"role\": \"user\", \"content\": \"tell me about new york\"}],\n",
    "# )\n",
    "# print(response.choices[0].message.content)"
   ]
  },
  {
   "cell_type": "code",
   "execution_count": 39,
   "metadata": {},
   "outputs": [],
   "source": [
    "prompt = \"\"\"\n",
    "Given the following HTML snippet enclosed in ```quotes```, respond IMAGE if the Creative Common license in it refers to an image, TEXT if it refers to text. DO NOT return any text besides IMAGE or TEXT.\n",
    "\n",
    "```html\n",
    "{snippet}\n",
    "```\n",
    "\"\"\""
   ]
  },
  {
   "cell_type": "code",
   "execution_count": 31,
   "metadata": {},
   "outputs": [
    {
     "name": "stderr",
     "output_type": "stream",
     "text": [
      "lines: 10201it [01:11, 141.75it/s]\n",
      "files: 101it [01:11,  1.40it/s]\n"
     ]
    }
   ],
   "source": [
    "# Grabbing documents\n",
    "documents = []\n",
    "per_snapshot = 100\n",
    "total_snapshots = 100\n",
    "\n",
    "with tqdm.tqdm(desc=\"files\", position=0) as tf, tqdm.tqdm(desc=\"lines\", position=1) as tl:\n",
    "    for j, path in enumerate(all_paths):\n",
    "        with smart_open.open(path) as f:\n",
    "            for i, line in enumerate(f):\n",
    "                documents.append(json.loads(line))\n",
    "                tl.update(1)\n",
    "                if i >= per_snapshot:\n",
    "                    break\n",
    "        tf.update(1)\n",
    "        if j >= total_snapshots:\n",
    "            break"
   ]
  },
  {
   "cell_type": "code",
   "execution_count": null,
   "metadata": {},
   "outputs": [],
   "source": [
    "responses = []\n",
    "# model_name = \"meta-llama/Llama-3-70b-chat-hf\"\n",
    "model_name = \"gpt-4o\"\n",
    "print(prompt)\n",
    "\n",
    "for doc in tqdm.tqdm(documents):\n",
    "    extracted_licenses = {\n",
    "        license_name: license_snippet[0].strip()\n",
    "        for license_name, license_snippet in doc[\"metadata\"][\"attribute_spans\"].items()\n",
    "        if \"copyright\" not in license_name and isinstance(license_snippet, list)\n",
    "    }\n",
    "\n",
    "    labeled_licenses = {}\n",
    "    for license_name, license_snippet in extracted_licenses.items():\n",
    "        response = client.chat.completions.create(\n",
    "            model=model_name,\n",
    "            temperature=0.2,\n",
    "            messages=[{\"role\": \"user\", \"content\": prompt.format(snippet=license_snippet)}],\n",
    "        )\n",
    "        labeled_licenses[license_name] = {\n",
    "            \"label\": response.choices[0].message.content,\n",
    "            \"snippet\": license_snippet,\n",
    "            \"model\": model_name,\n",
    "        }\n",
    "\n",
    "    doc_with_labels = copy.deepcopy(doc)\n",
    "    doc_with_labels[\"metadata\"][\"labeled_licenses\"] = labeled_licenses\n",
    "    # print(json.dumps({'url': doc_with_labels['metadata']['warc_url'], 'licenses': labeled_licenses}, indent=2))\n",
    "    responses.append(doc_with_labels)"
   ]
  },
  {
   "cell_type": "code",
   "execution_count": 46,
   "metadata": {},
   "outputs": [
    {
     "name": "stdout",
     "output_type": "stream",
     "text": [
      "Counter({'TEXT': 4268, 'IMAGE': 2398})\n"
     ]
    }
   ],
   "source": [
    "license_counter = Counter()\n",
    "for page in responses:\n",
    "    license_counter.update([label[\"label\"] for label in page[\"metadata\"][\"labeled_licenses\"].values()])\n",
    "\n",
    "print(license_counter)"
   ]
  }
 ],
 "metadata": {
  "kernelspec": {
   "display_name": "dolma",
   "language": "python",
   "name": "python3"
  },
  "language_info": {
   "codemirror_mode": {
    "name": "ipython",
    "version": 3
   },
   "file_extension": ".py",
   "mimetype": "text/x-python",
   "name": "python",
   "nbconvert_exporter": "python",
   "pygments_lexer": "ipython3",
   "version": "3.11.9"
  }
 },
 "nbformat": 4,
 "nbformat_minor": 2
}
